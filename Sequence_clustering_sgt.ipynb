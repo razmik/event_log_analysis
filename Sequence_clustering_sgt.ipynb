{
  "nbformat": 4,
  "nbformat_minor": 0,
  "metadata": {
    "colab": {
      "name": "Sequence_clustering_sgt.ipynb",
      "provenance": [],
      "collapsed_sections": []
    },
    "kernelspec": {
      "name": "python3",
      "display_name": "Python 3"
    },
    "language_info": {
      "name": "python"
    }
  },
  "cells": [
    {
      "cell_type": "markdown",
      "metadata": {
        "id": "S2wnvriT8l70"
      },
      "source": [
        "## Sequence Clustering\n",
        "\n",
        "This notebook contains step by step process to generate event sequence clusters."
      ]
    },
    {
      "cell_type": "code",
      "metadata": {
        "id": "xXQHW7hOiVhm"
      },
      "source": [
        "# install libraries required for sequence embedding\n",
        "!pip install sgt\n",
        "!pip install pandarallel"
      ],
      "execution_count": null,
      "outputs": []
    },
    {
      "cell_type": "code",
      "metadata": {
        "id": "nbcJXWg9iVfG"
      },
      "source": [
        "# general\n",
        "from tqdm import tqdm\n",
        "import pandas as pd\n",
        "import numpy as np\n",
        "\n",
        "# sequence embedding\n",
        "import sgt\n",
        "from sgt import SGT\n",
        "import pandarallel\n",
        "\n",
        "# dimension reduction and clustering\n",
        "from sklearn.decomposition import PCA\n",
        "from sklearn.cluster import KMeans\n",
        "\n",
        "# visualization\n",
        "import matplotlib.pyplot as plt\n",
        "%matplotlib inline"
      ],
      "execution_count": null,
      "outputs": []
    },
    {
      "cell_type": "markdown",
      "metadata": {
        "id": "ic-VERRo9TbT"
      },
      "source": [
        "### Data Preprocessing"
      ]
    },
    {
      "cell_type": "code",
      "metadata": {
        "id": "3E_VU_Mw3zQA"
      },
      "source": [
        "# load data\n",
        "df_orig = pd.read_csv('dt_event_seq_10000_5_1.csv')"
      ],
      "execution_count": null,
      "outputs": []
    },
    {
      "cell_type": "code",
      "metadata": {
        "id": "Bk2zTPrk6TGe"
      },
      "source": [
        "# Set ID\n",
        "df_orig['ID'] = range(0, len(df_orig))"
      ],
      "execution_count": null,
      "outputs": []
    },
    {
      "cell_type": "code",
      "metadata": {
        "colab": {
          "base_uri": "https://localhost:8080/",
          "height": 204
        },
        "id": "9IOSatvbRWKD",
        "outputId": "c608547d-2df4-4d2c-ac9c-20d78d9d409a"
      },
      "source": [
        "df_orig.head()"
      ],
      "execution_count": null,
      "outputs": [
        {
          "output_type": "execute_result",
          "data": {
            "text/html": [
              "<div>\n",
              "<style scoped>\n",
              "    .dataframe tbody tr th:only-of-type {\n",
              "        vertical-align: middle;\n",
              "    }\n",
              "\n",
              "    .dataframe tbody tr th {\n",
              "        vertical-align: top;\n",
              "    }\n",
              "\n",
              "    .dataframe thead th {\n",
              "        text-align: right;\n",
              "    }\n",
              "</style>\n",
              "<table border=\"1\" class=\"dataframe\">\n",
              "  <thead>\n",
              "    <tr style=\"text-align: right;\">\n",
              "      <th></th>\n",
              "      <th>event_seq</th>\n",
              "      <th>occurrence_count</th>\n",
              "      <th>unique_users</th>\n",
              "      <th>mean_seq_time</th>\n",
              "      <th>seq_length</th>\n",
              "      <th>ID</th>\n",
              "    </tr>\n",
              "  </thead>\n",
              "  <tbody>\n",
              "    <tr>\n",
              "      <th>0</th>\n",
              "      <td>servicedesk.page.view.queue#-#servicedesk.page...</td>\n",
              "      <td>9</td>\n",
              "      <td>6</td>\n",
              "      <td>1</td>\n",
              "      <td>3</td>\n",
              "      <td>0</td>\n",
              "    </tr>\n",
              "    <tr>\n",
              "      <th>1</th>\n",
              "      <td>experiments.performance.inclusion#-#dashboardview</td>\n",
              "      <td>1002</td>\n",
              "      <td>153</td>\n",
              "      <td>34</td>\n",
              "      <td>2</td>\n",
              "      <td>1</td>\n",
              "    </tr>\n",
              "    <tr>\n",
              "      <th>2</th>\n",
              "      <td>jira.header.menu.opened#-#jira.header.menu.closed</td>\n",
              "      <td>257</td>\n",
              "      <td>96</td>\n",
              "      <td>1701</td>\n",
              "      <td>2</td>\n",
              "      <td>2</td>\n",
              "    </tr>\n",
              "    <tr>\n",
              "      <th>3</th>\n",
              "      <td>kickass.criteriaAutoUpdateEnabled#-#kickass.vi...</td>\n",
              "      <td>1941</td>\n",
              "      <td>211</td>\n",
              "      <td>4658</td>\n",
              "      <td>4</td>\n",
              "      <td>3</td>\n",
              "    </tr>\n",
              "    <tr>\n",
              "      <th>4</th>\n",
              "      <td>kickass.criteriaAutoUpdateEnabled#-#browserWin...</td>\n",
              "      <td>131</td>\n",
              "      <td>44</td>\n",
              "      <td>5548</td>\n",
              "      <td>5</td>\n",
              "      <td>4</td>\n",
              "    </tr>\n",
              "  </tbody>\n",
              "</table>\n",
              "</div>"
            ],
            "text/plain": [
              "                                           event_seq  ...  ID\n",
              "0  servicedesk.page.view.queue#-#servicedesk.page...  ...   0\n",
              "1  experiments.performance.inclusion#-#dashboardview  ...   1\n",
              "2  jira.header.menu.opened#-#jira.header.menu.closed  ...   2\n",
              "3  kickass.criteriaAutoUpdateEnabled#-#kickass.vi...  ...   3\n",
              "4  kickass.criteriaAutoUpdateEnabled#-#browserWin...  ...   4\n",
              "\n",
              "[5 rows x 6 columns]"
            ]
          },
          "metadata": {},
          "execution_count": 5
        }
      ]
    },
    {
      "cell_type": "code",
      "metadata": {
        "id": "TA9Nn3bi3zNh"
      },
      "source": [
        "df = df_orig.loc[:, ['ID', 'event_seq']]\n",
        "df.columns = ['id', 'sequence']\n",
        "df['sequence'] = df['sequence'].apply(lambda x: x.split('#-#'))"
      ],
      "execution_count": null,
      "outputs": []
    },
    {
      "cell_type": "markdown",
      "metadata": {
        "id": "l5SJQOpF9XMT"
      },
      "source": [
        "### Sequence Embedding"
      ]
    },
    {
      "cell_type": "code",
      "metadata": {
        "colab": {
          "base_uri": "https://localhost:8080/"
        },
        "id": "K6u2T20l7AfB",
        "outputId": "bf983379-8c0a-46b4-cadf-c54c3835e66e"
      },
      "source": [
        "sgt_ = SGT(kappa=1, \n",
        "           lengthsensitive=False, \n",
        "           mode='multiprocessing')\n",
        "sgtembedding_df = sgt_.fit_transform(df)"
      ],
      "execution_count": null,
      "outputs": [
        {
          "output_type": "stream",
          "name": "stdout",
          "text": [
            "INFO: Pandarallel will run on 1 workers.\n",
            "INFO: Pandarallel will use Memory file system to transfer data between the main process and workers.\n"
          ]
        }
      ]
    },
    {
      "cell_type": "code",
      "metadata": {
        "id": "9gwSDnrh8JfH"
      },
      "source": [
        "sgtembedding_df = sgtembedding_df.set_index('id')"
      ],
      "execution_count": null,
      "outputs": []
    },
    {
      "cell_type": "code",
      "metadata": {
        "colab": {
          "base_uri": "https://localhost:8080/",
          "height": 318
        },
        "id": "xLJ7Dy9UCUY7",
        "outputId": "a67220ad-ff8a-4f65-9b98-062302ac4bba"
      },
      "source": [
        "sgtembedding_df.head()"
      ],
      "execution_count": null,
      "outputs": [
        {
          "output_type": "execute_result",
          "data": {
            "text/html": [
              "<div>\n",
              "<style scoped>\n",
              "    .dataframe tbody tr th:only-of-type {\n",
              "        vertical-align: middle;\n",
              "    }\n",
              "\n",
              "    .dataframe tbody tr th {\n",
              "        vertical-align: top;\n",
              "    }\n",
              "\n",
              "    .dataframe thead th {\n",
              "        text-align: right;\n",
              "    }\n",
              "</style>\n",
              "<table border=\"1\" class=\"dataframe\">\n",
              "  <thead>\n",
              "    <tr style=\"text-align: right;\">\n",
              "      <th></th>\n",
              "      <th>(ace.stp.open, ace.stp.open)</th>\n",
              "      <th>(ace.stp.open, ace.stp.open.icon)</th>\n",
              "      <th>(ace.stp.open, administration.navigate.tabs)</th>\n",
              "      <th>(ace.stp.open, administration.project.summary)</th>\n",
              "      <th>(ace.stp.open, administration.projectconfig.workflow.loadworkflowstab)</th>\n",
              "      <th>(ace.stp.open, administration.projects.components.component.created.inline)</th>\n",
              "      <th>(ace.stp.open, administration.projects.components.component.created.rest)</th>\n",
              "      <th>(ace.stp.open, administration.projects.versions.version.created.rest)</th>\n",
              "      <th>(ace.stp.open, administration.workflow.draftpublished)</th>\n",
              "      <th>(ace.stp.open, administration.workflow.edit)</th>\n",
              "      <th>(ace.stp.open, administration.workflow.open.edit.global)</th>\n",
              "      <th>(ace.stp.open, administration.workflow.selectmode)</th>\n",
              "      <th>(ace.stp.open, administration.workflow.updated)</th>\n",
              "      <th>(ace.stp.open, browseproject.administerproject)</th>\n",
              "      <th>(ace.stp.open, browseproject.issuefilter.all)</th>\n",
              "      <th>(ace.stp.open, browser.metrics.domContentLoadedEventEnd)</th>\n",
              "      <th>(ace.stp.open, browser.metrics.domContentLoadedEventStart)</th>\n",
              "      <th>(ace.stp.open, browser.metrics.experimentalMainJsDuration)</th>\n",
              "      <th>(ace.stp.open, browser.metrics.loadEventEnd)</th>\n",
              "      <th>(ace.stp.open, browser.metrics.navigation)</th>\n",
              "      <th>(ace.stp.open, browser.metrics.requestStart)</th>\n",
              "      <th>(ace.stp.open, browser.metrics.responseEnd)</th>\n",
              "      <th>(ace.stp.open, browser.metrics.responseStart)</th>\n",
              "      <th>(ace.stp.open, browser.metrics.secureConnectionStart)</th>\n",
              "      <th>(ace.stp.open, browserWindowSize)</th>\n",
              "      <th>(ace.stp.open, connect.addon.bridge.invokemethod)</th>\n",
              "      <th>(ace.stp.open, connect.addon.iframe.performance.load)</th>\n",
              "      <th>(ace.stp.open, connect.scoped.request.incoming.allowed)</th>\n",
              "      <th>(ace.stp.open, dashboardview)</th>\n",
              "      <th>(ace.stp.open, devstatus.commits.detail.github.commit.clicked)</th>\n",
              "      <th>(ace.stp.open, devstatus.commits.summary.clicked)</th>\n",
              "      <th>(ace.stp.open, devstatus.summary.shown.assignee)</th>\n",
              "      <th>(ace.stp.open, devstatus.summary.shown.nonassignee)</th>\n",
              "      <th>(ace.stp.open, experiments.performance.inclusion)</th>\n",
              "      <th>(ace.stp.open, gh.issueaction.issuedetail.assign-issue)</th>\n",
              "      <th>(ace.stp.open, gh.issueaction.issuedetail.editIssue)</th>\n",
              "      <th>(ace.stp.open, gh.issueaction.keyboardshortcuts.assign-issue)</th>\n",
              "      <th>(ace.stp.open, gh.issuedetail.inlineedit)</th>\n",
              "      <th>(ace.stp.open, gh.quickcreate.create)</th>\n",
              "      <th>(ace.stp.open, gh.rapidboard.epics.epicCount)</th>\n",
              "      <th>...</th>\n",
              "      <th>(workstartedonissue, kickass.filterChangesSaved)</th>\n",
              "      <th>(workstartedonissue, kickass.inlineEdit)</th>\n",
              "      <th>(workstartedonissue, kickass.issueLoadDuration)</th>\n",
              "      <th>(workstartedonissue, kickass.issueTableRefresh)</th>\n",
              "      <th>(workstartedonissue, kickass.moreCriteriaNewlySelectedCount)</th>\n",
              "      <th>(workstartedonissue, kickass.navigateToIssueNavigator)</th>\n",
              "      <th>(workstartedonissue, kickass.openIssueFromTable)</th>\n",
              "      <th>(workstartedonissue, kickass.queryTooComplexSwitchToAdvanced)</th>\n",
              "      <th>(workstartedonissue, kickass.reloadPage)</th>\n",
              "      <th>(workstartedonissue, kickass.returntosearch)</th>\n",
              "      <th>(workstartedonissue, kickass.saveACopyOfFilterFromSearchHeader)</th>\n",
              "      <th>(workstartedonissue, kickass.sortByColumn)</th>\n",
              "      <th>(workstartedonissue, kickass.viewIssue)</th>\n",
              "      <th>(workstartedonissue, lexorankbalance)</th>\n",
              "      <th>(workstartedonissue, mentionissue)</th>\n",
              "      <th>(workstartedonissue, mentionissuecomment)</th>\n",
              "      <th>(workstartedonissue, mobile.element.click)</th>\n",
              "      <th>(workstartedonissue, projectcomponentcreated)</th>\n",
              "      <th>(workstartedonissue, quick.create.fields)</th>\n",
              "      <th>(workstartedonissue, quickbrowse)</th>\n",
              "      <th>(workstartedonissue, quicksearch)</th>\n",
              "      <th>(workstartedonissue, remoteissuelinkcreate)</th>\n",
              "      <th>(workstartedonissue, report.viewed)</th>\n",
              "      <th>(workstartedonissue, servicedesk.page.view.agent.session)</th>\n",
              "      <th>(workstartedonissue, servicedesk.page.view.customerview.allrequests)</th>\n",
              "      <th>(workstartedonissue, servicedesk.page.view.customerview.allrequests.ownselected)</th>\n",
              "      <th>(workstartedonissue, servicedesk.page.view.customerview.attachment)</th>\n",
              "      <th>(workstartedonissue, servicedesk.page.view.customerview.comment)</th>\n",
              "      <th>(workstartedonissue, servicedesk.page.view.customerview.login)</th>\n",
              "      <th>(workstartedonissue, servicedesk.page.view.customerview.requestDetails)</th>\n",
              "      <th>(workstartedonissue, servicedesk.page.view.customerview.session)</th>\n",
              "      <th>(workstartedonissue, servicedesk.page.view.header.sd.topmenu)</th>\n",
              "      <th>(workstartedonissue, servicedesk.page.view.queue)</th>\n",
              "      <th>(workstartedonissue, servicedesk.page.view.queues)</th>\n",
              "      <th>(workstartedonissue, servicedesk.page.view.servicedesk.queue.issue.view)</th>\n",
              "      <th>(workstartedonissue, tzdetect.banner.shown)</th>\n",
              "      <th>(workstartedonissue, versioncreate)</th>\n",
              "      <th>(workstartedonissue, webhooks.published)</th>\n",
              "      <th>(workstartedonissue, workloggedonissue)</th>\n",
              "      <th>(workstartedonissue, workstartedonissue)</th>\n",
              "    </tr>\n",
              "    <tr>\n",
              "      <th>id</th>\n",
              "      <th></th>\n",
              "      <th></th>\n",
              "      <th></th>\n",
              "      <th></th>\n",
              "      <th></th>\n",
              "      <th></th>\n",
              "      <th></th>\n",
              "      <th></th>\n",
              "      <th></th>\n",
              "      <th></th>\n",
              "      <th></th>\n",
              "      <th></th>\n",
              "      <th></th>\n",
              "      <th></th>\n",
              "      <th></th>\n",
              "      <th></th>\n",
              "      <th></th>\n",
              "      <th></th>\n",
              "      <th></th>\n",
              "      <th></th>\n",
              "      <th></th>\n",
              "      <th></th>\n",
              "      <th></th>\n",
              "      <th></th>\n",
              "      <th></th>\n",
              "      <th></th>\n",
              "      <th></th>\n",
              "      <th></th>\n",
              "      <th></th>\n",
              "      <th></th>\n",
              "      <th></th>\n",
              "      <th></th>\n",
              "      <th></th>\n",
              "      <th></th>\n",
              "      <th></th>\n",
              "      <th></th>\n",
              "      <th></th>\n",
              "      <th></th>\n",
              "      <th></th>\n",
              "      <th></th>\n",
              "      <th></th>\n",
              "      <th></th>\n",
              "      <th></th>\n",
              "      <th></th>\n",
              "      <th></th>\n",
              "      <th></th>\n",
              "      <th></th>\n",
              "      <th></th>\n",
              "      <th></th>\n",
              "      <th></th>\n",
              "      <th></th>\n",
              "      <th></th>\n",
              "      <th></th>\n",
              "      <th></th>\n",
              "      <th></th>\n",
              "      <th></th>\n",
              "      <th></th>\n",
              "      <th></th>\n",
              "      <th></th>\n",
              "      <th></th>\n",
              "      <th></th>\n",
              "      <th></th>\n",
              "      <th></th>\n",
              "      <th></th>\n",
              "      <th></th>\n",
              "      <th></th>\n",
              "      <th></th>\n",
              "      <th></th>\n",
              "      <th></th>\n",
              "      <th></th>\n",
              "      <th></th>\n",
              "      <th></th>\n",
              "      <th></th>\n",
              "      <th></th>\n",
              "      <th></th>\n",
              "      <th></th>\n",
              "      <th></th>\n",
              "      <th></th>\n",
              "      <th></th>\n",
              "      <th></th>\n",
              "      <th></th>\n",
              "    </tr>\n",
              "  </thead>\n",
              "  <tbody>\n",
              "    <tr>\n",
              "      <th>0.0</th>\n",
              "      <td>0.0</td>\n",
              "      <td>0.0</td>\n",
              "      <td>0.0</td>\n",
              "      <td>0.0</td>\n",
              "      <td>0.0</td>\n",
              "      <td>0.0</td>\n",
              "      <td>0.0</td>\n",
              "      <td>0.0</td>\n",
              "      <td>0.0</td>\n",
              "      <td>0.0</td>\n",
              "      <td>0.0</td>\n",
              "      <td>0.0</td>\n",
              "      <td>0.0</td>\n",
              "      <td>0.0</td>\n",
              "      <td>0.0</td>\n",
              "      <td>0.0</td>\n",
              "      <td>0.0</td>\n",
              "      <td>0.0</td>\n",
              "      <td>0.0</td>\n",
              "      <td>0.0</td>\n",
              "      <td>0.0</td>\n",
              "      <td>0.0</td>\n",
              "      <td>0.0</td>\n",
              "      <td>0.0</td>\n",
              "      <td>0.0</td>\n",
              "      <td>0.0</td>\n",
              "      <td>0.0</td>\n",
              "      <td>0.0</td>\n",
              "      <td>0.0</td>\n",
              "      <td>0.0</td>\n",
              "      <td>0.0</td>\n",
              "      <td>0.0</td>\n",
              "      <td>0.0</td>\n",
              "      <td>0.0</td>\n",
              "      <td>0.0</td>\n",
              "      <td>0.0</td>\n",
              "      <td>0.0</td>\n",
              "      <td>0.0</td>\n",
              "      <td>0.0</td>\n",
              "      <td>0.0</td>\n",
              "      <td>...</td>\n",
              "      <td>0.0</td>\n",
              "      <td>0.0</td>\n",
              "      <td>0.0</td>\n",
              "      <td>0.0</td>\n",
              "      <td>0.0</td>\n",
              "      <td>0.0</td>\n",
              "      <td>0.0</td>\n",
              "      <td>0.0</td>\n",
              "      <td>0.0</td>\n",
              "      <td>0.0</td>\n",
              "      <td>0.0</td>\n",
              "      <td>0.0</td>\n",
              "      <td>0.0</td>\n",
              "      <td>0.0</td>\n",
              "      <td>0.0</td>\n",
              "      <td>0.0</td>\n",
              "      <td>0.0</td>\n",
              "      <td>0.0</td>\n",
              "      <td>0.0</td>\n",
              "      <td>0.0</td>\n",
              "      <td>0.0</td>\n",
              "      <td>0.0</td>\n",
              "      <td>0.0</td>\n",
              "      <td>0.0</td>\n",
              "      <td>0.0</td>\n",
              "      <td>0.0</td>\n",
              "      <td>0.0</td>\n",
              "      <td>0.0</td>\n",
              "      <td>0.0</td>\n",
              "      <td>0.0</td>\n",
              "      <td>0.0</td>\n",
              "      <td>0.0</td>\n",
              "      <td>0.0</td>\n",
              "      <td>0.0</td>\n",
              "      <td>0.0</td>\n",
              "      <td>0.0</td>\n",
              "      <td>0.0</td>\n",
              "      <td>0.0</td>\n",
              "      <td>0.0</td>\n",
              "      <td>0.0</td>\n",
              "    </tr>\n",
              "    <tr>\n",
              "      <th>1.0</th>\n",
              "      <td>0.0</td>\n",
              "      <td>0.0</td>\n",
              "      <td>0.0</td>\n",
              "      <td>0.0</td>\n",
              "      <td>0.0</td>\n",
              "      <td>0.0</td>\n",
              "      <td>0.0</td>\n",
              "      <td>0.0</td>\n",
              "      <td>0.0</td>\n",
              "      <td>0.0</td>\n",
              "      <td>0.0</td>\n",
              "      <td>0.0</td>\n",
              "      <td>0.0</td>\n",
              "      <td>0.0</td>\n",
              "      <td>0.0</td>\n",
              "      <td>0.0</td>\n",
              "      <td>0.0</td>\n",
              "      <td>0.0</td>\n",
              "      <td>0.0</td>\n",
              "      <td>0.0</td>\n",
              "      <td>0.0</td>\n",
              "      <td>0.0</td>\n",
              "      <td>0.0</td>\n",
              "      <td>0.0</td>\n",
              "      <td>0.0</td>\n",
              "      <td>0.0</td>\n",
              "      <td>0.0</td>\n",
              "      <td>0.0</td>\n",
              "      <td>0.0</td>\n",
              "      <td>0.0</td>\n",
              "      <td>0.0</td>\n",
              "      <td>0.0</td>\n",
              "      <td>0.0</td>\n",
              "      <td>0.0</td>\n",
              "      <td>0.0</td>\n",
              "      <td>0.0</td>\n",
              "      <td>0.0</td>\n",
              "      <td>0.0</td>\n",
              "      <td>0.0</td>\n",
              "      <td>0.0</td>\n",
              "      <td>...</td>\n",
              "      <td>0.0</td>\n",
              "      <td>0.0</td>\n",
              "      <td>0.0</td>\n",
              "      <td>0.0</td>\n",
              "      <td>0.0</td>\n",
              "      <td>0.0</td>\n",
              "      <td>0.0</td>\n",
              "      <td>0.0</td>\n",
              "      <td>0.0</td>\n",
              "      <td>0.0</td>\n",
              "      <td>0.0</td>\n",
              "      <td>0.0</td>\n",
              "      <td>0.0</td>\n",
              "      <td>0.0</td>\n",
              "      <td>0.0</td>\n",
              "      <td>0.0</td>\n",
              "      <td>0.0</td>\n",
              "      <td>0.0</td>\n",
              "      <td>0.0</td>\n",
              "      <td>0.0</td>\n",
              "      <td>0.0</td>\n",
              "      <td>0.0</td>\n",
              "      <td>0.0</td>\n",
              "      <td>0.0</td>\n",
              "      <td>0.0</td>\n",
              "      <td>0.0</td>\n",
              "      <td>0.0</td>\n",
              "      <td>0.0</td>\n",
              "      <td>0.0</td>\n",
              "      <td>0.0</td>\n",
              "      <td>0.0</td>\n",
              "      <td>0.0</td>\n",
              "      <td>0.0</td>\n",
              "      <td>0.0</td>\n",
              "      <td>0.0</td>\n",
              "      <td>0.0</td>\n",
              "      <td>0.0</td>\n",
              "      <td>0.0</td>\n",
              "      <td>0.0</td>\n",
              "      <td>0.0</td>\n",
              "    </tr>\n",
              "    <tr>\n",
              "      <th>2.0</th>\n",
              "      <td>0.0</td>\n",
              "      <td>0.0</td>\n",
              "      <td>0.0</td>\n",
              "      <td>0.0</td>\n",
              "      <td>0.0</td>\n",
              "      <td>0.0</td>\n",
              "      <td>0.0</td>\n",
              "      <td>0.0</td>\n",
              "      <td>0.0</td>\n",
              "      <td>0.0</td>\n",
              "      <td>0.0</td>\n",
              "      <td>0.0</td>\n",
              "      <td>0.0</td>\n",
              "      <td>0.0</td>\n",
              "      <td>0.0</td>\n",
              "      <td>0.0</td>\n",
              "      <td>0.0</td>\n",
              "      <td>0.0</td>\n",
              "      <td>0.0</td>\n",
              "      <td>0.0</td>\n",
              "      <td>0.0</td>\n",
              "      <td>0.0</td>\n",
              "      <td>0.0</td>\n",
              "      <td>0.0</td>\n",
              "      <td>0.0</td>\n",
              "      <td>0.0</td>\n",
              "      <td>0.0</td>\n",
              "      <td>0.0</td>\n",
              "      <td>0.0</td>\n",
              "      <td>0.0</td>\n",
              "      <td>0.0</td>\n",
              "      <td>0.0</td>\n",
              "      <td>0.0</td>\n",
              "      <td>0.0</td>\n",
              "      <td>0.0</td>\n",
              "      <td>0.0</td>\n",
              "      <td>0.0</td>\n",
              "      <td>0.0</td>\n",
              "      <td>0.0</td>\n",
              "      <td>0.0</td>\n",
              "      <td>...</td>\n",
              "      <td>0.0</td>\n",
              "      <td>0.0</td>\n",
              "      <td>0.0</td>\n",
              "      <td>0.0</td>\n",
              "      <td>0.0</td>\n",
              "      <td>0.0</td>\n",
              "      <td>0.0</td>\n",
              "      <td>0.0</td>\n",
              "      <td>0.0</td>\n",
              "      <td>0.0</td>\n",
              "      <td>0.0</td>\n",
              "      <td>0.0</td>\n",
              "      <td>0.0</td>\n",
              "      <td>0.0</td>\n",
              "      <td>0.0</td>\n",
              "      <td>0.0</td>\n",
              "      <td>0.0</td>\n",
              "      <td>0.0</td>\n",
              "      <td>0.0</td>\n",
              "      <td>0.0</td>\n",
              "      <td>0.0</td>\n",
              "      <td>0.0</td>\n",
              "      <td>0.0</td>\n",
              "      <td>0.0</td>\n",
              "      <td>0.0</td>\n",
              "      <td>0.0</td>\n",
              "      <td>0.0</td>\n",
              "      <td>0.0</td>\n",
              "      <td>0.0</td>\n",
              "      <td>0.0</td>\n",
              "      <td>0.0</td>\n",
              "      <td>0.0</td>\n",
              "      <td>0.0</td>\n",
              "      <td>0.0</td>\n",
              "      <td>0.0</td>\n",
              "      <td>0.0</td>\n",
              "      <td>0.0</td>\n",
              "      <td>0.0</td>\n",
              "      <td>0.0</td>\n",
              "      <td>0.0</td>\n",
              "    </tr>\n",
              "    <tr>\n",
              "      <th>3.0</th>\n",
              "      <td>0.0</td>\n",
              "      <td>0.0</td>\n",
              "      <td>0.0</td>\n",
              "      <td>0.0</td>\n",
              "      <td>0.0</td>\n",
              "      <td>0.0</td>\n",
              "      <td>0.0</td>\n",
              "      <td>0.0</td>\n",
              "      <td>0.0</td>\n",
              "      <td>0.0</td>\n",
              "      <td>0.0</td>\n",
              "      <td>0.0</td>\n",
              "      <td>0.0</td>\n",
              "      <td>0.0</td>\n",
              "      <td>0.0</td>\n",
              "      <td>0.0</td>\n",
              "      <td>0.0</td>\n",
              "      <td>0.0</td>\n",
              "      <td>0.0</td>\n",
              "      <td>0.0</td>\n",
              "      <td>0.0</td>\n",
              "      <td>0.0</td>\n",
              "      <td>0.0</td>\n",
              "      <td>0.0</td>\n",
              "      <td>0.0</td>\n",
              "      <td>0.0</td>\n",
              "      <td>0.0</td>\n",
              "      <td>0.0</td>\n",
              "      <td>0.0</td>\n",
              "      <td>0.0</td>\n",
              "      <td>0.0</td>\n",
              "      <td>0.0</td>\n",
              "      <td>0.0</td>\n",
              "      <td>0.0</td>\n",
              "      <td>0.0</td>\n",
              "      <td>0.0</td>\n",
              "      <td>0.0</td>\n",
              "      <td>0.0</td>\n",
              "      <td>0.0</td>\n",
              "      <td>0.0</td>\n",
              "      <td>...</td>\n",
              "      <td>0.0</td>\n",
              "      <td>0.0</td>\n",
              "      <td>0.0</td>\n",
              "      <td>0.0</td>\n",
              "      <td>0.0</td>\n",
              "      <td>0.0</td>\n",
              "      <td>0.0</td>\n",
              "      <td>0.0</td>\n",
              "      <td>0.0</td>\n",
              "      <td>0.0</td>\n",
              "      <td>0.0</td>\n",
              "      <td>0.0</td>\n",
              "      <td>0.0</td>\n",
              "      <td>0.0</td>\n",
              "      <td>0.0</td>\n",
              "      <td>0.0</td>\n",
              "      <td>0.0</td>\n",
              "      <td>0.0</td>\n",
              "      <td>0.0</td>\n",
              "      <td>0.0</td>\n",
              "      <td>0.0</td>\n",
              "      <td>0.0</td>\n",
              "      <td>0.0</td>\n",
              "      <td>0.0</td>\n",
              "      <td>0.0</td>\n",
              "      <td>0.0</td>\n",
              "      <td>0.0</td>\n",
              "      <td>0.0</td>\n",
              "      <td>0.0</td>\n",
              "      <td>0.0</td>\n",
              "      <td>0.0</td>\n",
              "      <td>0.0</td>\n",
              "      <td>0.0</td>\n",
              "      <td>0.0</td>\n",
              "      <td>0.0</td>\n",
              "      <td>0.0</td>\n",
              "      <td>0.0</td>\n",
              "      <td>0.0</td>\n",
              "      <td>0.0</td>\n",
              "      <td>0.0</td>\n",
              "    </tr>\n",
              "    <tr>\n",
              "      <th>4.0</th>\n",
              "      <td>0.0</td>\n",
              "      <td>0.0</td>\n",
              "      <td>0.0</td>\n",
              "      <td>0.0</td>\n",
              "      <td>0.0</td>\n",
              "      <td>0.0</td>\n",
              "      <td>0.0</td>\n",
              "      <td>0.0</td>\n",
              "      <td>0.0</td>\n",
              "      <td>0.0</td>\n",
              "      <td>0.0</td>\n",
              "      <td>0.0</td>\n",
              "      <td>0.0</td>\n",
              "      <td>0.0</td>\n",
              "      <td>0.0</td>\n",
              "      <td>0.0</td>\n",
              "      <td>0.0</td>\n",
              "      <td>0.0</td>\n",
              "      <td>0.0</td>\n",
              "      <td>0.0</td>\n",
              "      <td>0.0</td>\n",
              "      <td>0.0</td>\n",
              "      <td>0.0</td>\n",
              "      <td>0.0</td>\n",
              "      <td>0.0</td>\n",
              "      <td>0.0</td>\n",
              "      <td>0.0</td>\n",
              "      <td>0.0</td>\n",
              "      <td>0.0</td>\n",
              "      <td>0.0</td>\n",
              "      <td>0.0</td>\n",
              "      <td>0.0</td>\n",
              "      <td>0.0</td>\n",
              "      <td>0.0</td>\n",
              "      <td>0.0</td>\n",
              "      <td>0.0</td>\n",
              "      <td>0.0</td>\n",
              "      <td>0.0</td>\n",
              "      <td>0.0</td>\n",
              "      <td>0.0</td>\n",
              "      <td>...</td>\n",
              "      <td>0.0</td>\n",
              "      <td>0.0</td>\n",
              "      <td>0.0</td>\n",
              "      <td>0.0</td>\n",
              "      <td>0.0</td>\n",
              "      <td>0.0</td>\n",
              "      <td>0.0</td>\n",
              "      <td>0.0</td>\n",
              "      <td>0.0</td>\n",
              "      <td>0.0</td>\n",
              "      <td>0.0</td>\n",
              "      <td>0.0</td>\n",
              "      <td>0.0</td>\n",
              "      <td>0.0</td>\n",
              "      <td>0.0</td>\n",
              "      <td>0.0</td>\n",
              "      <td>0.0</td>\n",
              "      <td>0.0</td>\n",
              "      <td>0.0</td>\n",
              "      <td>0.0</td>\n",
              "      <td>0.0</td>\n",
              "      <td>0.0</td>\n",
              "      <td>0.0</td>\n",
              "      <td>0.0</td>\n",
              "      <td>0.0</td>\n",
              "      <td>0.0</td>\n",
              "      <td>0.0</td>\n",
              "      <td>0.0</td>\n",
              "      <td>0.0</td>\n",
              "      <td>0.0</td>\n",
              "      <td>0.0</td>\n",
              "      <td>0.0</td>\n",
              "      <td>0.0</td>\n",
              "      <td>0.0</td>\n",
              "      <td>0.0</td>\n",
              "      <td>0.0</td>\n",
              "      <td>0.0</td>\n",
              "      <td>0.0</td>\n",
              "      <td>0.0</td>\n",
              "      <td>0.0</td>\n",
              "    </tr>\n",
              "  </tbody>\n",
              "</table>\n",
              "<p>5 rows × 17956 columns</p>\n",
              "</div>"
            ],
            "text/plain": [
              "     (ace.stp.open, ace.stp.open)  ...  (workstartedonissue, workstartedonissue)\n",
              "id                                 ...                                          \n",
              "0.0                           0.0  ...                                       0.0\n",
              "1.0                           0.0  ...                                       0.0\n",
              "2.0                           0.0  ...                                       0.0\n",
              "3.0                           0.0  ...                                       0.0\n",
              "4.0                           0.0  ...                                       0.0\n",
              "\n",
              "[5 rows x 17956 columns]"
            ]
          },
          "metadata": {},
          "execution_count": 9
        }
      ]
    },
    {
      "cell_type": "markdown",
      "metadata": {
        "id": "Sf61Zdjr9eIy"
      },
      "source": [
        "### Dimension Reduction"
      ]
    },
    {
      "cell_type": "code",
      "metadata": {
        "colab": {
          "base_uri": "https://localhost:8080/"
        },
        "id": "SKDANvO48Jbu",
        "outputId": "527dbb1d-4bad-4478-a473-af9d7f0a7a2f"
      },
      "source": [
        "pca = PCA(n_components=2)\n",
        "pca.fit(sgtembedding_df)"
      ],
      "execution_count": null,
      "outputs": [
        {
          "output_type": "execute_result",
          "data": {
            "text/plain": [
              "PCA(copy=True, iterated_power='auto', n_components=2, random_state=None,\n",
              "    svd_solver='auto', tol=0.0, whiten=False)"
            ]
          },
          "metadata": {},
          "execution_count": 10
        }
      ]
    },
    {
      "cell_type": "code",
      "metadata": {
        "colab": {
          "base_uri": "https://localhost:8080/"
        },
        "id": "0zZX8CdT9moP",
        "outputId": "3fcb9174-0fe3-4a04-a9d4-83c452006516"
      },
      "source": [
        "X = pca.transform(sgtembedding_df)\n",
        "print(np.sum(pca.explained_variance_ratio_))"
      ],
      "execution_count": null,
      "outputs": [
        {
          "output_type": "stream",
          "name": "stdout",
          "text": [
            "0.18866847245978535\n"
          ]
        }
      ]
    },
    {
      "cell_type": "code",
      "metadata": {
        "id": "9FCkNIUQ9mkX"
      },
      "source": [
        "df_pca = pd.DataFrame(data=X, columns=['x1', 'x2'])\n"
      ],
      "execution_count": null,
      "outputs": []
    },
    {
      "cell_type": "markdown",
      "metadata": {
        "id": "03VnINzb9hXS"
      },
      "source": [
        "### Clustering"
      ]
    },
    {
      "cell_type": "markdown",
      "metadata": {
        "id": "lHeiKcwp9j0D"
      },
      "source": [
        "First we select optimal number of clusters using elbow clustering technique."
      ]
    },
    {
      "cell_type": "code",
      "metadata": {
        "id": "q4DqVOu9EsGe"
      },
      "source": [
        "# Elbow clustering\n",
        "\n",
        "distortions = []\n",
        "K_max = 50\n",
        "for k in tqdm(range(1, K_max)):\n",
        "\n",
        "  kmeans = KMeans(n_clusters=k)\n",
        "  kmeans.fit(df_pca)\n",
        "  distortions.append(kmeans.inertia_)\n"
      ],
      "execution_count": null,
      "outputs": []
    },
    {
      "cell_type": "code",
      "metadata": {
        "id": "CXC4uLVXFQ5K"
      },
      "source": [
        "plt.figure()\n",
        "plt.plot(range(1, K_max), distortions, 'bx-')\n",
        "plt.xlabel('k')\n",
        "plt.ylabel('Distortion')\n",
        "plt.title('The Elbow Method showing the optimal k')\n",
        "plt.show()"
      ],
      "execution_count": null,
      "outputs": []
    },
    {
      "cell_type": "markdown",
      "metadata": {
        "id": "AJe4jSFA9pG5"
      },
      "source": [
        "Based on above elbow plot, we can see k=5 seems a reasonable for final clustering."
      ]
    },
    {
      "cell_type": "code",
      "metadata": {
        "colab": {
          "base_uri": "https://localhost:8080/",
          "height": 320
        },
        "id": "dPL5Wbpj6sKP",
        "outputId": "1b7768df-abf1-4d48-f928-4e59288197ed"
      },
      "source": [
        "n_clusters = 20\n",
        "\n",
        "kmeans = KMeans(n_clusters=n_clusters, max_iter =300)\n",
        "kmeans.fit(df_pca)\n",
        "\n",
        "labels = kmeans.predict(df_pca)\n",
        "centroids = kmeans.cluster_centers_\n",
        "\n",
        "# cm = plt.get_cmap('Dark2')\n",
        "cm = plt.get_cmap('tab20')\n",
        "colmap = {i: cm(i) for i in range(1, n_clusters+1)}\n",
        "\n",
        "fig = plt.figure(figsize=(5, 5))\n",
        "colors = list(map(lambda x: colmap[x+1], labels))\n",
        "scatter = plt.scatter(df_pca['x1'], df_pca['x2'], label = labels, color=colors, alpha=0.5, edgecolor=colors)\n"
      ],
      "execution_count": null,
      "outputs": [
        {
          "output_type": "display_data",
          "data": {
            "image/png": "[encoded data removed]",
            "text/plain": [
              "<Figure size 360x360 with 1 Axes>"
            ]
          },
          "metadata": {
            "needs_background": "light"
          }
        }
      ]
    },
    {
      "cell_type": "markdown",
      "metadata": {
        "id": "KbwvIVk5APeE"
      },
      "source": [
        "### Cluster Outcomes"
      ]
    },
    {
      "cell_type": "code",
      "metadata": {
        "id": "nxX2vM9498F5"
      },
      "source": [
        "df_orig['cluster_id'] = labels\n",
        "df_orig['pca_x1'] = df_pca['x1']\n",
        "df_orig['pca_x2'] = df_pca['x2']\n",
        "df_orig['event_seq_cont'] = df_orig['event_seq'].apply(lambda x: x.split('#-#'))"
      ],
      "execution_count": null,
      "outputs": []
    },
    {
      "cell_type": "code",
      "metadata": {
        "id": "5vtTPTRD98C6",
        "colab": {
          "base_uri": "https://localhost:8080/",
          "height": 204
        },
        "outputId": "678fd42c-615b-4f26-c9fb-8a40a32ef3f5"
      },
      "source": [
        "df_orig.head()"
      ],
      "execution_count": null,
      "outputs": [
        {
          "output_type": "execute_result",
          "data": {
            "text/html": [
              "<div>\n",
              "<style scoped>\n",
              "    .dataframe tbody tr th:only-of-type {\n",
              "        vertical-align: middle;\n",
              "    }\n",
              "\n",
              "    .dataframe tbody tr th {\n",
              "        vertical-align: top;\n",
              "    }\n",
              "\n",
              "    .dataframe thead th {\n",
              "        text-align: right;\n",
              "    }\n",
              "</style>\n",
              "<table border=\"1\" class=\"dataframe\">\n",
              "  <thead>\n",
              "    <tr style=\"text-align: right;\">\n",
              "      <th></th>\n",
              "      <th>event_seq</th>\n",
              "      <th>occurrence_count</th>\n",
              "      <th>unique_users</th>\n",
              "      <th>mean_seq_time</th>\n",
              "      <th>seq_length</th>\n",
              "      <th>ID</th>\n",
              "      <th>cluster_id</th>\n",
              "      <th>pca_x1</th>\n",
              "      <th>pca_x2</th>\n",
              "      <th>event_seq_cont</th>\n",
              "    </tr>\n",
              "  </thead>\n",
              "  <tbody>\n",
              "    <tr>\n",
              "      <th>0</th>\n",
              "      <td>servicedesk.page.view.queue#-#servicedesk.page...</td>\n",
              "      <td>9</td>\n",
              "      <td>6</td>\n",
              "      <td>1</td>\n",
              "      <td>3</td>\n",
              "      <td>0</td>\n",
              "      <td>2</td>\n",
              "      <td>-0.081649</td>\n",
              "      <td>-0.153496</td>\n",
              "      <td>[servicedesk.page.view.queue, servicedesk.page...</td>\n",
              "    </tr>\n",
              "    <tr>\n",
              "      <th>1</th>\n",
              "      <td>experiments.performance.inclusion#-#dashboardview</td>\n",
              "      <td>1002</td>\n",
              "      <td>153</td>\n",
              "      <td>34</td>\n",
              "      <td>2</td>\n",
              "      <td>1</td>\n",
              "      <td>2</td>\n",
              "      <td>-0.080295</td>\n",
              "      <td>-0.159585</td>\n",
              "      <td>[experiments.performance.inclusion, dashboardv...</td>\n",
              "    </tr>\n",
              "    <tr>\n",
              "      <th>2</th>\n",
              "      <td>jira.header.menu.opened#-#jira.header.menu.closed</td>\n",
              "      <td>257</td>\n",
              "      <td>96</td>\n",
              "      <td>1701</td>\n",
              "      <td>2</td>\n",
              "      <td>2</td>\n",
              "      <td>17</td>\n",
              "      <td>-0.086909</td>\n",
              "      <td>-0.170163</td>\n",
              "      <td>[jira.header.menu.opened, jira.header.menu.clo...</td>\n",
              "    </tr>\n",
              "    <tr>\n",
              "      <th>3</th>\n",
              "      <td>kickass.criteriaAutoUpdateEnabled#-#kickass.vi...</td>\n",
              "      <td>1941</td>\n",
              "      <td>211</td>\n",
              "      <td>4658</td>\n",
              "      <td>4</td>\n",
              "      <td>3</td>\n",
              "      <td>0</td>\n",
              "      <td>0.491255</td>\n",
              "      <td>0.036603</td>\n",
              "      <td>[kickass.criteriaAutoUpdateEnabled, kickass.vi...</td>\n",
              "    </tr>\n",
              "    <tr>\n",
              "      <th>4</th>\n",
              "      <td>kickass.criteriaAutoUpdateEnabled#-#browserWin...</td>\n",
              "      <td>131</td>\n",
              "      <td>44</td>\n",
              "      <td>5548</td>\n",
              "      <td>5</td>\n",
              "      <td>4</td>\n",
              "      <td>3</td>\n",
              "      <td>-0.023842</td>\n",
              "      <td>0.459916</td>\n",
              "      <td>[kickass.criteriaAutoUpdateEnabled, browserWin...</td>\n",
              "    </tr>\n",
              "  </tbody>\n",
              "</table>\n",
              "</div>"
            ],
            "text/plain": [
              "                                           event_seq  ...                                     event_seq_cont\n",
              "0  servicedesk.page.view.queue#-#servicedesk.page...  ...  [servicedesk.page.view.queue, servicedesk.page...\n",
              "1  experiments.performance.inclusion#-#dashboardview  ...  [experiments.performance.inclusion, dashboardv...\n",
              "2  jira.header.menu.opened#-#jira.header.menu.closed  ...  [jira.header.menu.opened, jira.header.menu.clo...\n",
              "3  kickass.criteriaAutoUpdateEnabled#-#kickass.vi...  ...  [kickass.criteriaAutoUpdateEnabled, kickass.vi...\n",
              "4  kickass.criteriaAutoUpdateEnabled#-#browserWin...  ...  [kickass.criteriaAutoUpdateEnabled, browserWin...\n",
              "\n",
              "[5 rows x 10 columns]"
            ]
          },
          "metadata": {},
          "execution_count": 17
        }
      ]
    },
    {
      "cell_type": "code",
      "metadata": {
        "id": "wNkALv0FCuIK"
      },
      "source": [
        "df_orig.to_csv('dt_event_seq_10000_5_1_k20.csv', index = None)"
      ],
      "execution_count": null,
      "outputs": []
    },
    {
      "cell_type": "code",
      "metadata": {
        "id": "jsxfnhYgUJJd"
      },
      "source": [
        "cluster_events = {}\n",
        "\n",
        "for i in range(0, n_clusters):\n",
        "\n",
        "  df_c1 = df_orig.loc[df_orig['cluster_id']==i]\n",
        "\n",
        "  c1_events = []\n",
        "  for index, row in df_c1.iterrows():\n",
        "    c1_events.extend(row['event_seq_cont'])\n",
        "\n",
        "  c1_events = list(set(c1_events))\n",
        "  c1_events.sort()\n",
        "  cluster_events[i] = c1_events"
      ],
      "execution_count": null,
      "outputs": []
    },
    {
      "cell_type": "code",
      "metadata": {
        "id": "-urJaHuRkPto"
      },
      "source": [
        "cluster_events"
      ],
      "execution_count": null,
      "outputs": []
    },
    {
      "cell_type": "code",
      "metadata": {
        "colab": {
          "base_uri": "https://localhost:8080/"
        },
        "id": "iysXy6GBVk6z",
        "outputId": "08d6bbd3-7c55-4087-9b22-6d887063c1c2"
      },
      "source": [
        "for i in range(0, n_clusters):\n",
        "  print(i, '-', len(cluster_events[i]))"
      ],
      "execution_count": null,
      "outputs": [
        {
          "output_type": "stream",
          "text": [
            "0 - 117\n",
            "1 - 33\n",
            "2 - 34\n",
            "3 - 15\n",
            "4 - 15\n",
            "5 - 20\n",
            "6 - 13\n",
            "7 - 19\n",
            "8 - 12\n",
            "9 - 18\n",
            "10 - 23\n",
            "11 - 22\n",
            "12 - 32\n",
            "13 - 14\n",
            "14 - 17\n",
            "15 - 15\n",
            "16 - 10\n",
            "17 - 17\n",
            "18 - 13\n",
            "19 - 33\n"
          ],
          "name": "stdout"
        }
      ]
    },
    {
      "cell_type": "code",
      "metadata": {
        "id": "7bSD_nmpI_g9"
      },
      "source": [
        "df_res = pd.DataFrame(cluster_events.items(), columns=['Cluster', 'Events'])"
      ],
      "execution_count": null,
      "outputs": []
    },
    {
      "cell_type": "code",
      "metadata": {
        "id": "ZkCSdzhgI_cM"
      },
      "source": [
        "df_res.to_csv('cluster_output.csv', index=None)"
      ],
      "execution_count": null,
      "outputs": []
    }
  ]
}